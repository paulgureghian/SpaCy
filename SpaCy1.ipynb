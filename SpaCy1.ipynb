{
  "nbformat": 4,
  "nbformat_minor": 0,
  "metadata": {
    "colab": {
      "name": "SpaCy1.ipynb",
      "version": "0.3.2",
      "provenance": [],
      "collapsed_sections": [],
      "include_colab_link": true
    },
    "kernelspec": {
      "name": "python3",
      "display_name": "Python 3"
    }
  },
  "cells": [
    {
      "cell_type": "markdown",
      "metadata": {
        "id": "view-in-github",
        "colab_type": "text"
      },
      "source": [
        "<a href=\"https://colab.research.google.com/github/paulgureghian/SpaCy/blob/master/SpaCy1.ipynb\" target=\"_parent\"><img src=\"https://colab.research.google.com/assets/colab-badge.svg\" alt=\"Open In Colab\"/></a>"
      ]
    },
    {
      "metadata": {
        "id": "vcLzawu6NwY7",
        "colab_type": "text"
      },
      "cell_type": "markdown",
      "source": [
        "### **Created in April 2019 by Paul A. Gureghian.**"
      ]
    },
    {
      "metadata": {
        "id": "sy2e4NN2N-Vc",
        "colab_type": "text"
      },
      "cell_type": "markdown",
      "source": [
        "### **This scientific notebook has Python code to do text classification using the 'SpaCy' package.**"
      ]
    },
    {
      "metadata": {
        "id": "J9KirK0PW33R",
        "colab_type": "text"
      },
      "cell_type": "markdown",
      "source": [
        "### **The first section will focus on 'word tokenization'.**"
      ]
    },
    {
      "metadata": {
        "id": "fGbmrZASTjb2",
        "colab_type": "code",
        "colab": {}
      },
      "cell_type": "code",
      "source": [
        "### Import libraries\n",
        "import spacy\n",
        "import string\n",
        "import pandas as pd\n",
        "import en_core_web_sm\n",
        "from spacy import displacy\n",
        "from sklearn import metrics\n",
        "from spacy.lang.en import English\n",
        "from sklearn.pipeline import Pipeline\n",
        "from sklearn.base import TransformerMixin\n",
        "from spacy.lang.en.stop_words import STOP_WORDS\n",
        "from sklearn.linear_model import LogisticRegression\n",
        "from sklearn.model_selection import train_test_split\n",
        "from sklearn.feature_extraction.text import CountVectorizer, TfidfVectorizer"
      ],
      "execution_count": 0,
      "outputs": []
    },
    {
      "metadata": {
        "id": "FrbUv1gJTzhd",
        "colab_type": "code",
        "colab": {}
      },
      "cell_type": "code",
      "source": [
        "### Load English tokenizer\n",
        "nlp = English()"
      ],
      "execution_count": 0,
      "outputs": []
    },
    {
      "metadata": {
        "id": "jcty_57hULG2",
        "colab_type": "code",
        "colab": {}
      },
      "cell_type": "code",
      "source": [
        "### Text to process\n",
        "text = \"\"\"When learning data science, you shoulndn't get discouraged!\n",
        "        Challenges and setbacks aren't failure, they're just part of the journey. You've got this!\"\"\""
      ],
      "execution_count": 0,
      "outputs": []
    },
    {
      "metadata": {
        "id": "p2zHCHBaVBuO",
        "colab_type": "code",
        "outputId": "fd2b1af1-4fff-47a4-8743-a6881e6349d0",
        "colab": {
          "base_uri": "https://localhost:8080/",
          "height": 51
        }
      },
      "cell_type": "code",
      "source": [
        "### Process the text \n",
        "doc = nlp(text)\n",
        "print(doc)"
      ],
      "execution_count": 179,
      "outputs": [
        {
          "output_type": "stream",
          "text": [
            "When learning data science, you shoulndn't get discouraged!\n",
            "        Challenges and setbacks aren't failure, they're just part of the journey. You've got this!\n"
          ],
          "name": "stdout"
        }
      ]
    },
    {
      "metadata": {
        "id": "n1VqSSsaVdM-",
        "colab_type": "code",
        "outputId": "e85b0fd1-410b-4b2d-e070-22ab18089ca1",
        "colab": {
          "base_uri": "https://localhost:8080/",
          "height": 54
        }
      },
      "cell_type": "code",
      "source": [
        "### Create a list of word tokens\n",
        "token_list = []\n",
        "for token in doc:\n",
        "    token_list.append(token.text)\n",
        "\n",
        "print(token_list)    "
      ],
      "execution_count": 180,
      "outputs": [
        {
          "output_type": "stream",
          "text": [
            "['When', 'learning', 'data', 'science', ',', 'you', \"shoulndn't\", 'get', 'discouraged', '!', '\\n        ', 'Challenges', 'and', 'setbacks', 'are', \"n't\", 'failure', ',', 'they', \"'re\", 'just', 'part', 'of', 'the', 'journey', '.', 'You', \"'ve\", 'got', 'this', '!']\n"
          ],
          "name": "stdout"
        }
      ]
    },
    {
      "metadata": {
        "id": "qZskBeZAXuzD",
        "colab_type": "text"
      },
      "cell_type": "markdown",
      "source": [
        "### **This section will focus on 'sentence tokenization'.**"
      ]
    },
    {
      "metadata": {
        "id": "FOU5_yIMYFRT",
        "colab_type": "code",
        "colab": {}
      },
      "cell_type": "code",
      "source": [
        "### Create the pipeline 'sentencizer' component\n",
        "sbd = nlp.create_pipe('sentencizer') "
      ],
      "execution_count": 0,
      "outputs": []
    },
    {
      "metadata": {
        "id": "bZUjaKVeYiho",
        "colab_type": "code",
        "colab": {}
      },
      "cell_type": "code",
      "source": [
        "### Add the component to the pipeline\n",
        "nlp.add_pipe(sbd)"
      ],
      "execution_count": 0,
      "outputs": []
    },
    {
      "metadata": {
        "id": "m_KRC8CtYxj4",
        "colab_type": "code",
        "outputId": "1b36db66-0c24-42ff-ac1a-97d11ec3e8dc",
        "colab": {
          "base_uri": "https://localhost:8080/",
          "height": 51
        }
      },
      "cell_type": "code",
      "source": [
        "### Process the text\n",
        "doc = nlp(text)\n",
        "print(doc)"
      ],
      "execution_count": 183,
      "outputs": [
        {
          "output_type": "stream",
          "text": [
            "When learning data science, you shoulndn't get discouraged!\n",
            "        Challenges and setbacks aren't failure, they're just part of the journey. You've got this!\n"
          ],
          "name": "stdout"
        }
      ]
    },
    {
      "metadata": {
        "id": "fpCWMOLHZjTi",
        "colab_type": "code",
        "outputId": "d94dfc2f-ae11-466a-9f68-a82ffbe949d2",
        "colab": {
          "base_uri": "https://localhost:8080/",
          "height": 54
        }
      },
      "cell_type": "code",
      "source": [
        "### Create list of sentence tokens\n",
        "sentence_list = []\n",
        "for sentence in doc.sents:\n",
        "    sentence_list.append(sentence.text)\n",
        "    \n",
        "print(sentence_list)    "
      ],
      "execution_count": 184,
      "outputs": [
        {
          "output_type": "stream",
          "text": [
            "[\"When learning data science, you shoulndn't get discouraged!\", \"\\n        Challenges and setbacks aren't failure, they're just part of the journey.\", \"You've got this!\"]\n"
          ],
          "name": "stdout"
        }
      ]
    },
    {
      "metadata": {
        "id": "xE25NGX6bek4",
        "colab_type": "text"
      },
      "cell_type": "markdown",
      "source": [
        "### **Cleaning Text Data: Removing Stopwords.**"
      ]
    },
    {
      "metadata": {
        "id": "nBMQzAlWb0DD",
        "colab_type": "code",
        "colab": {}
      },
      "cell_type": "code",
      "source": [
        "### Analyze the default stopwords in SpaCy\n",
        "spacy_stopwords = spacy.lang.en.stop_words.STOP_WORDS"
      ],
      "execution_count": 0,
      "outputs": []
    },
    {
      "metadata": {
        "id": "X8shcTIkdXl4",
        "colab_type": "code",
        "outputId": "747756b2-93cf-4c88-b81c-5e4b4699f4b0",
        "colab": {
          "base_uri": "https://localhost:8080/",
          "height": 34
        }
      },
      "cell_type": "code",
      "source": [
        "### Print total number of stopwords\n",
        "print(\"Number of stop words: %d\" % len(spacy_stopwords))"
      ],
      "execution_count": 186,
      "outputs": [
        {
          "output_type": "stream",
          "text": [
            "Number of stop words: 305\n"
          ],
          "name": "stdout"
        }
      ]
    },
    {
      "metadata": {
        "id": "uWYqjN-vgDOC",
        "colab_type": "code",
        "outputId": "38161ef9-675a-4ba0-b452-cc1b0dfb56bf",
        "colab": {
          "base_uri": "https://localhost:8080/",
          "height": 54
        }
      },
      "cell_type": "code",
      "source": [
        "### Print the first ten stopwords\n",
        "print(\"The first ten stop words: %s\" % list(spacy_stopwords)[:20]) "
      ],
      "execution_count": 187,
      "outputs": [
        {
          "output_type": "stream",
          "text": [
            "The first ten stop words: ['from', 'when', 'call', 'whole', 'less', 'afterwards', 'is', 'already', 'whence', 'whereafter', 'always', 'to', 'might', 'the', 'could', 'part', 'doing', 'quite', 'whose', 'many']\n"
          ],
          "name": "stdout"
        }
      ]
    },
    {
      "metadata": {
        "id": "qP8cd4MBhnJn",
        "colab_type": "code",
        "outputId": "c0fd0484-7552-44cc-91e2-fe6f1edfe273",
        "colab": {
          "base_uri": "https://localhost:8080/",
          "height": 51
        }
      },
      "cell_type": "code",
      "source": [
        "### Remove the stop words from source text\n",
        "filtered_sentence = []\n",
        "\n",
        "for word in doc:\n",
        "    if word.is_stop == False:\n",
        "       filtered_sentence.append(word)\n",
        "        \n",
        "print(\"Filtered sentence:\", filtered_sentence)        "
      ],
      "execution_count": 188,
      "outputs": [
        {
          "output_type": "stream",
          "text": [
            "Filtered sentence: [When, learning, data, science, ,, shoulndn't, discouraged, !, \n",
            "        , Challenges, setbacks, n't, failure, ,, 're, journey, ., You, 've, got, !]\n"
          ],
          "name": "stdout"
        }
      ]
    },
    {
      "metadata": {
        "id": "xa0Ug6NDkBSO",
        "colab_type": "text"
      },
      "cell_type": "markdown",
      "source": [
        "### **Lexicon Normalization and Lemmatization.**"
      ]
    },
    {
      "metadata": {
        "id": "uZMSUQTsmXg-",
        "colab_type": "code",
        "outputId": "3bfc2714-bf00-4b2b-e2a4-6184d5905767",
        "colab": {
          "base_uri": "https://localhost:8080/",
          "height": 85
        }
      },
      "cell_type": "code",
      "source": [
        "### Implement Lemmatization\n",
        "lem = nlp(\"run runs running runner\")\n",
        "\n",
        "for word in lem:\n",
        "    print(word.text, word.lemma_)"
      ],
      "execution_count": 189,
      "outputs": [
        {
          "output_type": "stream",
          "text": [
            "run run\n",
            "runs run\n",
            "running run\n",
            "runner runner\n"
          ],
          "name": "stdout"
        }
      ]
    },
    {
      "metadata": {
        "id": "-O2SSQXWn22m",
        "colab_type": "text"
      },
      "cell_type": "markdown",
      "source": [
        "### **Part of Speech (POS) Tagging.**"
      ]
    },
    {
      "metadata": {
        "id": "CTEAeksmo-8W",
        "colab_type": "code",
        "outputId": "71d511e2-1f26-4403-af59-e5f23b35dbf2",
        "colab": {
          "base_uri": "https://localhost:8080/",
          "height": 136
        }
      },
      "cell_type": "code",
      "source": [
        "### Implement POS Tagging\n",
        "nlp = en_core_web_sm.load()\n",
        "\n",
        "docs = nlp(u\"All is well that ends well.\")\n",
        "\n",
        "for word in docs:\n",
        "    print(word.text, word.pos_)"
      ],
      "execution_count": 190,
      "outputs": [
        {
          "output_type": "stream",
          "text": [
            "All DET\n",
            "is VERB\n",
            "well ADV\n",
            "that ADJ\n",
            "ends VERB\n",
            "well ADV\n",
            ". PUNCT\n"
          ],
          "name": "stdout"
        }
      ]
    },
    {
      "metadata": {
        "id": "TyO4V6Gxq_sW",
        "colab_type": "text"
      },
      "cell_type": "markdown",
      "source": [
        "### **Entity Detection.**"
      ]
    },
    {
      "metadata": {
        "id": "lfbH8OtmrItF",
        "colab_type": "code",
        "outputId": "6f971996-8084-4a6e-f05e-c1225f38ab1d",
        "colab": {
          "base_uri": "https://localhost:8080/",
          "height": 54
        }
      },
      "cell_type": "code",
      "source": [
        "### Implement Entity Detection\n",
        "nytimes= nlp(u\"\"\"New York City on Tuesday declared a public health emergency and ordered mandatory measles vaccinations amid an outbreak, becoming the latest national flash point over refusals to inoculate against dangerous diseases.\n",
        "\n",
        "At least 285 people have contracted measles in the city since September, mostly in Brooklyn’s Williamsburg neighborhood. The order covers four Zip codes there, Mayor Bill de Blasio (D) said Tuesday.\n",
        "\n",
        "The mandate orders all unvaccinated people in the area, including a concentration of Orthodox Jews, to receive inoculations, including for children as young as 6 months old. Anyone who resists could be fined up to $1,000.\"\"\")\n",
        "\n",
        "entities = [(i, i.label_, i.label) for i in nytimes.ents]\n",
        "print(entities)"
      ],
      "execution_count": 191,
      "outputs": [
        {
          "output_type": "stream",
          "text": [
            "[(New York City, 'GPE', 382), (Tuesday, 'DATE', 388), (At least 285, 'CARDINAL', 394), (September, 'DATE', 388), (Brooklyn, 'GPE', 382), (Williamsburg, 'GPE', 382), (four, 'CARDINAL', 394), (Zip, 'PERSON', 378), (Bill de Blasio, 'PERSON', 378), (Tuesday, 'DATE', 388), (Orthodox, 'NORP', 379), (Jews, 'NORP', 379), (6 months old, 'DATE', 388), (1,000, 'MONEY', 391)]\n"
          ],
          "name": "stdout"
        }
      ]
    },
    {
      "metadata": {
        "id": "n_JhJU4fttay",
        "colab_type": "code",
        "outputId": "a7d8561e-ebf3-4010-a817-ef96bcfe51d0",
        "colab": {
          "base_uri": "https://localhost:8080/",
          "height": 297
        }
      },
      "cell_type": "code",
      "source": [
        "### Visualize the entities output\n",
        "displacy.render(nytimes, style=\"ent\", jupyter=True) "
      ],
      "execution_count": 192,
      "outputs": [
        {
          "output_type": "display_data",
          "data": {
            "text/html": [
              "<div class=\"entities\" style=\"line-height: 2.5\">\n",
              "<mark class=\"entity\" style=\"background: #feca74; padding: 0.45em 0.6em; margin: 0 0.25em; line-height: 1; border-radius: 0.35em; box-decoration-break: clone; -webkit-box-decoration-break: clone\">\n",
              "    New York City\n",
              "    <span style=\"font-size: 0.8em; font-weight: bold; line-height: 1; border-radius: 0.35em; text-transform: uppercase; vertical-align: middle; margin-left: 0.5rem\">GPE</span>\n",
              "</mark>\n",
              " on \n",
              "<mark class=\"entity\" style=\"background: #bfe1d9; padding: 0.45em 0.6em; margin: 0 0.25em; line-height: 1; border-radius: 0.35em; box-decoration-break: clone; -webkit-box-decoration-break: clone\">\n",
              "    Tuesday\n",
              "    <span style=\"font-size: 0.8em; font-weight: bold; line-height: 1; border-radius: 0.35em; text-transform: uppercase; vertical-align: middle; margin-left: 0.5rem\">DATE</span>\n",
              "</mark>\n",
              " declared a public health emergency and ordered mandatory measles vaccinations amid an outbreak, becoming the latest national flash point over refusals to inoculate against dangerous diseases.</br></br>\n",
              "<mark class=\"entity\" style=\"background: #e4e7d2; padding: 0.45em 0.6em; margin: 0 0.25em; line-height: 1; border-radius: 0.35em; box-decoration-break: clone; -webkit-box-decoration-break: clone\">\n",
              "    At least 285\n",
              "    <span style=\"font-size: 0.8em; font-weight: bold; line-height: 1; border-radius: 0.35em; text-transform: uppercase; vertical-align: middle; margin-left: 0.5rem\">CARDINAL</span>\n",
              "</mark>\n",
              " people have contracted measles in the city since \n",
              "<mark class=\"entity\" style=\"background: #bfe1d9; padding: 0.45em 0.6em; margin: 0 0.25em; line-height: 1; border-radius: 0.35em; box-decoration-break: clone; -webkit-box-decoration-break: clone\">\n",
              "    September\n",
              "    <span style=\"font-size: 0.8em; font-weight: bold; line-height: 1; border-radius: 0.35em; text-transform: uppercase; vertical-align: middle; margin-left: 0.5rem\">DATE</span>\n",
              "</mark>\n",
              ", mostly in \n",
              "<mark class=\"entity\" style=\"background: #feca74; padding: 0.45em 0.6em; margin: 0 0.25em; line-height: 1; border-radius: 0.35em; box-decoration-break: clone; -webkit-box-decoration-break: clone\">\n",
              "    Brooklyn\n",
              "    <span style=\"font-size: 0.8em; font-weight: bold; line-height: 1; border-radius: 0.35em; text-transform: uppercase; vertical-align: middle; margin-left: 0.5rem\">GPE</span>\n",
              "</mark>\n",
              "’s \n",
              "<mark class=\"entity\" style=\"background: #feca74; padding: 0.45em 0.6em; margin: 0 0.25em; line-height: 1; border-radius: 0.35em; box-decoration-break: clone; -webkit-box-decoration-break: clone\">\n",
              "    Williamsburg\n",
              "    <span style=\"font-size: 0.8em; font-weight: bold; line-height: 1; border-radius: 0.35em; text-transform: uppercase; vertical-align: middle; margin-left: 0.5rem\">GPE</span>\n",
              "</mark>\n",
              " neighborhood. The order covers \n",
              "<mark class=\"entity\" style=\"background: #e4e7d2; padding: 0.45em 0.6em; margin: 0 0.25em; line-height: 1; border-radius: 0.35em; box-decoration-break: clone; -webkit-box-decoration-break: clone\">\n",
              "    four\n",
              "    <span style=\"font-size: 0.8em; font-weight: bold; line-height: 1; border-radius: 0.35em; text-transform: uppercase; vertical-align: middle; margin-left: 0.5rem\">CARDINAL</span>\n",
              "</mark>\n",
              " \n",
              "<mark class=\"entity\" style=\"background: #aa9cfc; padding: 0.45em 0.6em; margin: 0 0.25em; line-height: 1; border-radius: 0.35em; box-decoration-break: clone; -webkit-box-decoration-break: clone\">\n",
              "    Zip\n",
              "    <span style=\"font-size: 0.8em; font-weight: bold; line-height: 1; border-radius: 0.35em; text-transform: uppercase; vertical-align: middle; margin-left: 0.5rem\">PERSON</span>\n",
              "</mark>\n",
              " codes there, Mayor \n",
              "<mark class=\"entity\" style=\"background: #aa9cfc; padding: 0.45em 0.6em; margin: 0 0.25em; line-height: 1; border-radius: 0.35em; box-decoration-break: clone; -webkit-box-decoration-break: clone\">\n",
              "    Bill de Blasio\n",
              "    <span style=\"font-size: 0.8em; font-weight: bold; line-height: 1; border-radius: 0.35em; text-transform: uppercase; vertical-align: middle; margin-left: 0.5rem\">PERSON</span>\n",
              "</mark>\n",
              " (D) said \n",
              "<mark class=\"entity\" style=\"background: #bfe1d9; padding: 0.45em 0.6em; margin: 0 0.25em; line-height: 1; border-radius: 0.35em; box-decoration-break: clone; -webkit-box-decoration-break: clone\">\n",
              "    Tuesday\n",
              "    <span style=\"font-size: 0.8em; font-weight: bold; line-height: 1; border-radius: 0.35em; text-transform: uppercase; vertical-align: middle; margin-left: 0.5rem\">DATE</span>\n",
              "</mark>\n",
              ".</br></br>The mandate orders all unvaccinated people in the area, including a concentration of \n",
              "<mark class=\"entity\" style=\"background: #c887fb; padding: 0.45em 0.6em; margin: 0 0.25em; line-height: 1; border-radius: 0.35em; box-decoration-break: clone; -webkit-box-decoration-break: clone\">\n",
              "    Orthodox\n",
              "    <span style=\"font-size: 0.8em; font-weight: bold; line-height: 1; border-radius: 0.35em; text-transform: uppercase; vertical-align: middle; margin-left: 0.5rem\">NORP</span>\n",
              "</mark>\n",
              " \n",
              "<mark class=\"entity\" style=\"background: #c887fb; padding: 0.45em 0.6em; margin: 0 0.25em; line-height: 1; border-radius: 0.35em; box-decoration-break: clone; -webkit-box-decoration-break: clone\">\n",
              "    Jews\n",
              "    <span style=\"font-size: 0.8em; font-weight: bold; line-height: 1; border-radius: 0.35em; text-transform: uppercase; vertical-align: middle; margin-left: 0.5rem\">NORP</span>\n",
              "</mark>\n",
              ", to receive inoculations, including for children as young as \n",
              "<mark class=\"entity\" style=\"background: #bfe1d9; padding: 0.45em 0.6em; margin: 0 0.25em; line-height: 1; border-radius: 0.35em; box-decoration-break: clone; -webkit-box-decoration-break: clone\">\n",
              "    6 months old\n",
              "    <span style=\"font-size: 0.8em; font-weight: bold; line-height: 1; border-radius: 0.35em; text-transform: uppercase; vertical-align: middle; margin-left: 0.5rem\">DATE</span>\n",
              "</mark>\n",
              ". Anyone who resists could be fined up to $\n",
              "<mark class=\"entity\" style=\"background: #e4e7d2; padding: 0.45em 0.6em; margin: 0 0.25em; line-height: 1; border-radius: 0.35em; box-decoration-break: clone; -webkit-box-decoration-break: clone\">\n",
              "    1,000\n",
              "    <span style=\"font-size: 0.8em; font-weight: bold; line-height: 1; border-radius: 0.35em; text-transform: uppercase; vertical-align: middle; margin-left: 0.5rem\">MONEY</span>\n",
              "</mark>\n",
              ".</div>"
            ],
            "text/plain": [
              "<IPython.core.display.HTML object>"
            ]
          },
          "metadata": {
            "tags": []
          }
        }
      ]
    },
    {
      "metadata": {
        "id": "QFGn0wz3vJV2",
        "colab_type": "text"
      },
      "cell_type": "markdown",
      "source": [
        "### **Dependency Parsing.**"
      ]
    },
    {
      "metadata": {
        "id": "xT68VUKMvTwd",
        "colab_type": "code",
        "outputId": "78830ed4-50c0-409e-d05f-983db716a7a7",
        "colab": {
          "base_uri": "https://localhost:8080/",
          "height": 68
        }
      },
      "cell_type": "code",
      "source": [
        "### Implement Dependency Parsing\n",
        "docp = nlp(\"In pursuit of a wall, President Trump ran into one.\")\n",
        "\n",
        "for chunk in docp.noun_chunks:\n",
        "    print(chunk.text, chunk.root.text, chunk.root.dep_,\n",
        "          chunk.root.head.text)"
      ],
      "execution_count": 193,
      "outputs": [
        {
          "output_type": "stream",
          "text": [
            "pursuit pursuit pobj In\n",
            "a wall wall pobj of\n",
            "President Trump Trump nsubj ran\n"
          ],
          "name": "stdout"
        }
      ]
    },
    {
      "metadata": {
        "id": "Abe8s3XPwhiC",
        "colab_type": "code",
        "outputId": "e119c452-333d-43b4-8dca-ac915961fc73",
        "colab": {
          "base_uri": "https://localhost:8080/",
          "height": 441
        }
      },
      "cell_type": "code",
      "source": [
        "### Visualize the Dependencies\n",
        "displacy.render(docp, style=\"dep\", jupyter=True)"
      ],
      "execution_count": 194,
      "outputs": [
        {
          "output_type": "display_data",
          "data": {
            "text/html": [
              "<svg xmlns=\"http://www.w3.org/2000/svg\" xmlns:xlink=\"http://www.w3.org/1999/xlink\" id=\"576-0\" class=\"displacy\" width=\"1800\" height=\"399.5\" style=\"max-width: none; height: 399.5px; color: #000000; background: #ffffff; font-family: Arial\">\n",
              "<text class=\"displacy-token\" fill=\"currentColor\" text-anchor=\"middle\" y=\"309.5\">\n",
              "    <tspan class=\"displacy-word\" fill=\"currentColor\" x=\"50\">In</tspan>\n",
              "    <tspan class=\"displacy-tag\" dy=\"2em\" fill=\"currentColor\" x=\"50\">ADP</tspan>\n",
              "</text>\n",
              "\n",
              "<text class=\"displacy-token\" fill=\"currentColor\" text-anchor=\"middle\" y=\"309.5\">\n",
              "    <tspan class=\"displacy-word\" fill=\"currentColor\" x=\"225\">pursuit</tspan>\n",
              "    <tspan class=\"displacy-tag\" dy=\"2em\" fill=\"currentColor\" x=\"225\">NOUN</tspan>\n",
              "</text>\n",
              "\n",
              "<text class=\"displacy-token\" fill=\"currentColor\" text-anchor=\"middle\" y=\"309.5\">\n",
              "    <tspan class=\"displacy-word\" fill=\"currentColor\" x=\"400\">of</tspan>\n",
              "    <tspan class=\"displacy-tag\" dy=\"2em\" fill=\"currentColor\" x=\"400\">ADP</tspan>\n",
              "</text>\n",
              "\n",
              "<text class=\"displacy-token\" fill=\"currentColor\" text-anchor=\"middle\" y=\"309.5\">\n",
              "    <tspan class=\"displacy-word\" fill=\"currentColor\" x=\"575\">a</tspan>\n",
              "    <tspan class=\"displacy-tag\" dy=\"2em\" fill=\"currentColor\" x=\"575\">DET</tspan>\n",
              "</text>\n",
              "\n",
              "<text class=\"displacy-token\" fill=\"currentColor\" text-anchor=\"middle\" y=\"309.5\">\n",
              "    <tspan class=\"displacy-word\" fill=\"currentColor\" x=\"750\">wall,</tspan>\n",
              "    <tspan class=\"displacy-tag\" dy=\"2em\" fill=\"currentColor\" x=\"750\">NOUN</tspan>\n",
              "</text>\n",
              "\n",
              "<text class=\"displacy-token\" fill=\"currentColor\" text-anchor=\"middle\" y=\"309.5\">\n",
              "    <tspan class=\"displacy-word\" fill=\"currentColor\" x=\"925\">President</tspan>\n",
              "    <tspan class=\"displacy-tag\" dy=\"2em\" fill=\"currentColor\" x=\"925\">PROPN</tspan>\n",
              "</text>\n",
              "\n",
              "<text class=\"displacy-token\" fill=\"currentColor\" text-anchor=\"middle\" y=\"309.5\">\n",
              "    <tspan class=\"displacy-word\" fill=\"currentColor\" x=\"1100\">Trump</tspan>\n",
              "    <tspan class=\"displacy-tag\" dy=\"2em\" fill=\"currentColor\" x=\"1100\">PROPN</tspan>\n",
              "</text>\n",
              "\n",
              "<text class=\"displacy-token\" fill=\"currentColor\" text-anchor=\"middle\" y=\"309.5\">\n",
              "    <tspan class=\"displacy-word\" fill=\"currentColor\" x=\"1275\">ran</tspan>\n",
              "    <tspan class=\"displacy-tag\" dy=\"2em\" fill=\"currentColor\" x=\"1275\">VERB</tspan>\n",
              "</text>\n",
              "\n",
              "<text class=\"displacy-token\" fill=\"currentColor\" text-anchor=\"middle\" y=\"309.5\">\n",
              "    <tspan class=\"displacy-word\" fill=\"currentColor\" x=\"1450\">into</tspan>\n",
              "    <tspan class=\"displacy-tag\" dy=\"2em\" fill=\"currentColor\" x=\"1450\">ADP</tspan>\n",
              "</text>\n",
              "\n",
              "<text class=\"displacy-token\" fill=\"currentColor\" text-anchor=\"middle\" y=\"309.5\">\n",
              "    <tspan class=\"displacy-word\" fill=\"currentColor\" x=\"1625\">one.</tspan>\n",
              "    <tspan class=\"displacy-tag\" dy=\"2em\" fill=\"currentColor\" x=\"1625\">NUM</tspan>\n",
              "</text>\n",
              "\n",
              "<g class=\"displacy-arrow\">\n",
              "    <path class=\"displacy-arc\" id=\"arrow-576-0-0\" stroke-width=\"2px\" d=\"M70,264.5 C70,2.0 1275.0,2.0 1275.0,264.5\" fill=\"none\" stroke=\"currentColor\"/>\n",
              "    <text dy=\"1.25em\" style=\"font-size: 0.8em; letter-spacing: 1px\">\n",
              "        <textPath xlink:href=\"#arrow-576-0-0\" class=\"displacy-label\" startOffset=\"50%\" fill=\"currentColor\" text-anchor=\"middle\">prep</textPath>\n",
              "    </text>\n",
              "    <path class=\"displacy-arrowhead\" d=\"M70,266.5 L62,254.5 78,254.5\" fill=\"currentColor\"/>\n",
              "</g>\n",
              "\n",
              "<g class=\"displacy-arrow\">\n",
              "    <path class=\"displacy-arc\" id=\"arrow-576-0-1\" stroke-width=\"2px\" d=\"M70,264.5 C70,177.0 215.0,177.0 215.0,264.5\" fill=\"none\" stroke=\"currentColor\"/>\n",
              "    <text dy=\"1.25em\" style=\"font-size: 0.8em; letter-spacing: 1px\">\n",
              "        <textPath xlink:href=\"#arrow-576-0-1\" class=\"displacy-label\" startOffset=\"50%\" fill=\"currentColor\" text-anchor=\"middle\">pobj</textPath>\n",
              "    </text>\n",
              "    <path class=\"displacy-arrowhead\" d=\"M215.0,266.5 L223.0,254.5 207.0,254.5\" fill=\"currentColor\"/>\n",
              "</g>\n",
              "\n",
              "<g class=\"displacy-arrow\">\n",
              "    <path class=\"displacy-arc\" id=\"arrow-576-0-2\" stroke-width=\"2px\" d=\"M245,264.5 C245,177.0 390.0,177.0 390.0,264.5\" fill=\"none\" stroke=\"currentColor\"/>\n",
              "    <text dy=\"1.25em\" style=\"font-size: 0.8em; letter-spacing: 1px\">\n",
              "        <textPath xlink:href=\"#arrow-576-0-2\" class=\"displacy-label\" startOffset=\"50%\" fill=\"currentColor\" text-anchor=\"middle\">prep</textPath>\n",
              "    </text>\n",
              "    <path class=\"displacy-arrowhead\" d=\"M390.0,266.5 L398.0,254.5 382.0,254.5\" fill=\"currentColor\"/>\n",
              "</g>\n",
              "\n",
              "<g class=\"displacy-arrow\">\n",
              "    <path class=\"displacy-arc\" id=\"arrow-576-0-3\" stroke-width=\"2px\" d=\"M595,264.5 C595,177.0 740.0,177.0 740.0,264.5\" fill=\"none\" stroke=\"currentColor\"/>\n",
              "    <text dy=\"1.25em\" style=\"font-size: 0.8em; letter-spacing: 1px\">\n",
              "        <textPath xlink:href=\"#arrow-576-0-3\" class=\"displacy-label\" startOffset=\"50%\" fill=\"currentColor\" text-anchor=\"middle\">det</textPath>\n",
              "    </text>\n",
              "    <path class=\"displacy-arrowhead\" d=\"M595,266.5 L587,254.5 603,254.5\" fill=\"currentColor\"/>\n",
              "</g>\n",
              "\n",
              "<g class=\"displacy-arrow\">\n",
              "    <path class=\"displacy-arc\" id=\"arrow-576-0-4\" stroke-width=\"2px\" d=\"M420,264.5 C420,89.5 745.0,89.5 745.0,264.5\" fill=\"none\" stroke=\"currentColor\"/>\n",
              "    <text dy=\"1.25em\" style=\"font-size: 0.8em; letter-spacing: 1px\">\n",
              "        <textPath xlink:href=\"#arrow-576-0-4\" class=\"displacy-label\" startOffset=\"50%\" fill=\"currentColor\" text-anchor=\"middle\">pobj</textPath>\n",
              "    </text>\n",
              "    <path class=\"displacy-arrowhead\" d=\"M745.0,266.5 L753.0,254.5 737.0,254.5\" fill=\"currentColor\"/>\n",
              "</g>\n",
              "\n",
              "<g class=\"displacy-arrow\">\n",
              "    <path class=\"displacy-arc\" id=\"arrow-576-0-5\" stroke-width=\"2px\" d=\"M945,264.5 C945,177.0 1090.0,177.0 1090.0,264.5\" fill=\"none\" stroke=\"currentColor\"/>\n",
              "    <text dy=\"1.25em\" style=\"font-size: 0.8em; letter-spacing: 1px\">\n",
              "        <textPath xlink:href=\"#arrow-576-0-5\" class=\"displacy-label\" startOffset=\"50%\" fill=\"currentColor\" text-anchor=\"middle\">compound</textPath>\n",
              "    </text>\n",
              "    <path class=\"displacy-arrowhead\" d=\"M945,266.5 L937,254.5 953,254.5\" fill=\"currentColor\"/>\n",
              "</g>\n",
              "\n",
              "<g class=\"displacy-arrow\">\n",
              "    <path class=\"displacy-arc\" id=\"arrow-576-0-6\" stroke-width=\"2px\" d=\"M1120,264.5 C1120,177.0 1265.0,177.0 1265.0,264.5\" fill=\"none\" stroke=\"currentColor\"/>\n",
              "    <text dy=\"1.25em\" style=\"font-size: 0.8em; letter-spacing: 1px\">\n",
              "        <textPath xlink:href=\"#arrow-576-0-6\" class=\"displacy-label\" startOffset=\"50%\" fill=\"currentColor\" text-anchor=\"middle\">nsubj</textPath>\n",
              "    </text>\n",
              "    <path class=\"displacy-arrowhead\" d=\"M1120,266.5 L1112,254.5 1128,254.5\" fill=\"currentColor\"/>\n",
              "</g>\n",
              "\n",
              "<g class=\"displacy-arrow\">\n",
              "    <path class=\"displacy-arc\" id=\"arrow-576-0-7\" stroke-width=\"2px\" d=\"M1295,264.5 C1295,177.0 1440.0,177.0 1440.0,264.5\" fill=\"none\" stroke=\"currentColor\"/>\n",
              "    <text dy=\"1.25em\" style=\"font-size: 0.8em; letter-spacing: 1px\">\n",
              "        <textPath xlink:href=\"#arrow-576-0-7\" class=\"displacy-label\" startOffset=\"50%\" fill=\"currentColor\" text-anchor=\"middle\">prep</textPath>\n",
              "    </text>\n",
              "    <path class=\"displacy-arrowhead\" d=\"M1440.0,266.5 L1448.0,254.5 1432.0,254.5\" fill=\"currentColor\"/>\n",
              "</g>\n",
              "\n",
              "<g class=\"displacy-arrow\">\n",
              "    <path class=\"displacy-arc\" id=\"arrow-576-0-8\" stroke-width=\"2px\" d=\"M1470,264.5 C1470,177.0 1615.0,177.0 1615.0,264.5\" fill=\"none\" stroke=\"currentColor\"/>\n",
              "    <text dy=\"1.25em\" style=\"font-size: 0.8em; letter-spacing: 1px\">\n",
              "        <textPath xlink:href=\"#arrow-576-0-8\" class=\"displacy-label\" startOffset=\"50%\" fill=\"currentColor\" text-anchor=\"middle\">pobj</textPath>\n",
              "    </text>\n",
              "    <path class=\"displacy-arrowhead\" d=\"M1615.0,266.5 L1623.0,254.5 1607.0,254.5\" fill=\"currentColor\"/>\n",
              "</g>\n",
              "</svg>"
            ],
            "text/plain": [
              "<IPython.core.display.HTML object>"
            ]
          },
          "metadata": {
            "tags": []
          }
        }
      ]
    },
    {
      "metadata": {
        "id": "x2YUqD0yxC7f",
        "colab_type": "text"
      },
      "cell_type": "markdown",
      "source": [
        "### **Word Vector Representation.**"
      ]
    },
    {
      "metadata": {
        "id": "ynDbtWDGxKuR",
        "colab_type": "code",
        "outputId": "5fc66d47-ae71-4e2d-8ae1-8751512a8b48",
        "colab": {
          "base_uri": "https://localhost:8080/",
          "height": 1666
        }
      },
      "cell_type": "code",
      "source": [
        "### Implement WVR\n",
        "mango = nlp(u'mango')\n",
        "\n",
        "print(mango.vector.shape)\n",
        "print(mango.vector)"
      ],
      "execution_count": 195,
      "outputs": [
        {
          "output_type": "stream",
          "text": [
            "(384,)\n",
            "[ 1.81898862e-01 -5.30111313e-01  2.66826463e+00  6.92421854e-01\n",
            " -1.97660947e+00  3.68705654e+00 -4.39795065e+00 -9.98801291e-01\n",
            "  4.40463066e-01  2.16391638e-01 -3.65440279e-01 -7.81076103e-02\n",
            " -2.61327028e-02 -2.29889131e+00 -4.02842969e-01  2.03411388e+00\n",
            " -1.13863683e+00 -2.47938871e+00 -6.85229778e-01  2.18901730e+00\n",
            "  2.21150255e+00  1.11644936e+00  1.71971738e-01  4.38696742e-01\n",
            " -1.64694774e+00 -4.35405135e-01 -3.02480489e-01  8.34272265e-01\n",
            " -1.12027764e+00  7.75548697e-01 -5.96541584e-01 -1.65593314e+00\n",
            "  5.41058123e-01 -3.40727717e-01 -3.47570509e-01  5.06470382e-01\n",
            "  3.71737331e-01 -9.64704275e-01 -8.57091904e-01  8.52468491e-01\n",
            " -3.29184246e+00  4.53452921e+00  2.02872545e-01 -1.16221458e-01\n",
            " -1.18046367e+00  4.02978331e-01 -5.31236291e-01 -9.04556274e-01\n",
            "  1.07802963e+00  3.54202926e-01 -1.02039969e+00 -1.33428836e+00\n",
            " -3.28955364e+00  6.58581913e-01 -4.01282251e-01  3.08272779e-01\n",
            "  4.82804346e+00 -1.29300499e+00 -2.84544349e+00 -1.12305379e+00\n",
            " -5.03152847e-01  1.29261315e+00 -3.30458188e+00  1.92081952e+00\n",
            "  7.14220405e-02 -2.02817464e+00  3.02123642e+00 -1.99166107e+00\n",
            " -1.92445648e+00  3.65125585e+00 -7.88050890e-01 -2.09680891e+00\n",
            "  1.03800631e+00  2.75186467e+00 -3.27485991e+00  6.57312691e-01\n",
            "  3.97891784e+00 -3.67220187e+00  7.39762366e-01 -9.89271700e-01\n",
            " -3.03038001e+00 -2.38147593e+00 -1.73317528e+00 -3.57437873e+00\n",
            "  4.55121458e-01  4.33675528e+00 -2.77815676e+00 -2.07637882e+00\n",
            " -1.25160456e+00  2.58834052e+00 -3.26153326e+00  6.09403992e+00\n",
            " -1.36440349e+00  1.02464151e+00 -1.50516868e-01  3.60381842e+00\n",
            " -1.35952067e+00  1.05655551e+00  1.22726309e+00 -1.07333386e+00\n",
            " -7.88496554e-01  1.68226099e+00  7.97819853e-01 -1.28441334e+00\n",
            "  8.94673586e-01  3.63391519e-01  3.12928486e+00 -1.75953102e+00\n",
            "  8.23561311e-01  2.09957719e+00 -8.17726195e-01  4.13139731e-01\n",
            "  1.59389448e+00 -3.03726912e+00  2.19724417e+00  3.42315340e+00\n",
            " -1.55573308e+00  3.52128744e-02  8.47542584e-02  1.31635296e+00\n",
            "  1.86058009e+00  6.17008328e-01  2.45746136e+00  1.90638471e+00\n",
            "  4.70225662e-01 -3.32388210e+00  2.17222333e+00  9.33571935e-01\n",
            " -6.93495095e-01 -2.62393534e-01 -1.22718751e-01 -2.37137526e-02\n",
            "  4.15046774e-02  4.12744045e-01 -4.31417227e-01  2.94759810e-01\n",
            "  4.02999580e-01 -1.58282846e-01  3.64514828e-01  1.92580193e-01\n",
            " -1.88358724e-01  1.66451007e-01 -4.40809697e-01 -1.75147355e-01\n",
            " -1.42322659e-01  3.36481780e-01  3.82769018e-01 -3.54398966e-01\n",
            " -6.59677535e-02  5.35996705e-02  8.40718970e-02  2.55517006e-01\n",
            " -1.21877447e-01 -4.92286325e-01 -3.85198593e-02 -2.57301569e-01\n",
            " -5.07925987e-01 -3.00415605e-01 -6.76170737e-03  1.46031752e-01\n",
            " -1.63864717e-01 -1.05808005e-01  2.70395875e-02 -3.53468448e-01\n",
            "  4.66952324e-01  6.27776682e-02  2.19426423e-01  2.43136108e-01\n",
            " -4.93172228e-01  1.57642707e-01 -2.49427378e-01 -5.73973238e-01\n",
            " -1.10988282e-01  1.64105013e-01  3.87997441e-02 -4.43923682e-01\n",
            " -4.71918434e-01  9.32885557e-02  4.06052232e-01 -6.08412512e-02\n",
            " -1.44426644e-01  4.62718546e-01 -1.18775576e-01  2.57674307e-01\n",
            "  3.71353477e-01 -2.28524923e-01  1.03940105e+00 -6.24905676e-02\n",
            "  5.51728070e-01  7.73812115e-01  1.06586647e+00  8.00274462e-02\n",
            "  4.40959156e-01 -2.56961510e-02 -2.73709685e-01  1.66172236e-02\n",
            "  4.76645321e-01  4.66467768e-01 -4.28537607e-01 -3.20914894e-01\n",
            "  1.35450459e+00 -3.00385892e-01  8.70559439e-02  1.88281715e-01\n",
            "  5.08369505e-01  6.17126375e-02  1.65950567e-01  1.44236177e-01\n",
            " -1.18160114e-01 -3.08414668e-01 -6.33658290e-01  1.18357018e-01\n",
            "  2.37848550e-01  4.97333884e-01 -1.40580547e+00 -1.82813227e-01\n",
            " -3.88159633e-01 -2.16753468e-01  5.49934626e-01 -1.12611905e-01\n",
            " -2.70864785e-01  1.36724442e-01 -2.38833159e-01 -5.85838914e-01\n",
            " -2.20475078e-01 -4.21668947e-01 -1.26343220e-01 -3.42552066e-01\n",
            " -2.03688174e-01  5.14922500e-01 -1.58258468e-01  7.78951585e-01\n",
            "  4.46085244e-01  3.27805400e-01 -8.85331690e-01  1.82527691e-01\n",
            " -4.95969534e-01  6.88712895e-02 -2.80571818e-01 -1.12975001e-01\n",
            "  1.66671947e-01 -4.95094657e-01  9.32842791e-01 -7.02028632e-01\n",
            " -2.24367201e-01  1.13637477e-01  3.54944915e-02  2.95113146e-01\n",
            " -2.96606421e-01 -6.32207274e-01 -2.89138466e-01  3.13882232e-01\n",
            " -4.87576425e-01  3.28630626e-01  1.39758259e-01  6.67375505e-01\n",
            " -6.47397414e-02 -4.02480751e-01  2.55680203e-01 -7.91376010e-02\n",
            " -3.99971008e-03 -6.14542067e-01 -1.16960198e-01 -2.63757318e-01\n",
            "  5.92832983e-01  3.13958406e-01 -5.62953472e-01 -4.80710000e-01\n",
            "  1.13148332e-01 -4.85704690e-01 -1.77754074e-01  5.40012598e-01\n",
            "  5.14276087e-01 -5.16304731e-01 -3.46898824e-01 -2.45012820e-01\n",
            "  3.64657603e-02  6.82464391e-02  1.22727334e+00 -3.44983131e-01\n",
            " -6.62144423e-01  4.81946051e-01 -6.31494105e-01  4.87313062e-01\n",
            " -3.08780134e-01 -1.94469303e-01 -3.63524795e-01 -1.87936068e-01\n",
            "  4.40233797e-01 -8.41975808e-02  1.71477646e-01  4.77934271e-01\n",
            "  7.13559389e-02  8.47315371e-01  3.99755806e-01 -5.00020266e-01\n",
            " -2.12733075e-01  1.61105305e-01 -2.87730932e-01 -4.50689912e-01\n",
            "  3.99116218e-01  7.37489998e-01  6.51046634e-01 -5.96692599e-02\n",
            " -1.36333585e-01 -9.41171527e-01  1.72643781e-01 -4.11249876e-01\n",
            " -7.36986279e-01  1.87735736e-01 -2.92779744e-01  2.43946105e-01\n",
            " -2.57864118e-01  3.73349309e-01  3.29288065e-01 -2.69235075e-02\n",
            "  6.48675859e-02  6.49811685e-01 -2.51772463e-01 -3.51187885e-01\n",
            " -1.99914217e-01  4.08296198e-01  1.17452659e-01  6.11443579e-01\n",
            "  2.82112733e-02 -2.51792490e-01 -1.47752523e-01 -4.42041576e-01\n",
            "  3.99909139e-01 -7.71710873e-02  2.03457400e-01 -2.95876712e-01\n",
            " -2.41324216e-01  3.54851961e-01 -7.12549388e-01 -3.68871897e-01\n",
            " -4.94893879e-01  1.86989337e-01 -1.25341177e-01 -1.36610523e-01\n",
            " -1.79864556e-01 -4.38466221e-01  2.51398385e-01 -8.97197574e-02\n",
            " -3.75749707e-01 -4.97022659e-01  2.68682212e-01  4.37748939e-01\n",
            " -2.14833021e-03 -3.66205543e-01 -4.71424997e-01 -2.49685079e-01\n",
            "  3.11208665e-02  7.81705201e-01  3.32701445e-01  6.57406211e-01\n",
            "  2.75392860e-01 -9.77010727e-02 -2.73272455e-01 -1.50915101e-01\n",
            " -1.20879197e+00  3.10617656e-01  1.93623230e-01  4.77042407e-01\n",
            " -9.32869434e-01  6.11543477e-01  1.11876261e+00 -2.75449216e-01\n",
            "  5.69001496e-01 -2.01143324e-01 -8.09958577e-01  8.68484735e-01\n",
            " -7.87354335e-02 -7.57152557e-01  3.80277216e-01  3.01620394e-01\n",
            " -3.22923847e-02 -2.40704179e-01 -1.48656815e-01  1.90181583e-01\n",
            " -1.12839110e-01 -1.87790513e-01  1.29857287e-01  2.80055583e-01]\n"
          ],
          "name": "stdout"
        }
      ]
    },
    {
      "metadata": {
        "id": "fqrtb34FzpsR",
        "colab_type": "text"
      },
      "cell_type": "markdown",
      "source": [
        "### **Text Classification.**\n",
        "\n",
        "**Via 'Logistic Regression Classification' using 'Scikit-Learn'.**"
      ]
    },
    {
      "metadata": {
        "id": "dpKcjaBk0LuY",
        "colab_type": "code",
        "colab": {
          "base_uri": "https://localhost:8080/",
          "height": 204
        },
        "outputId": "62fd1783-8fa0-483c-997c-5c138ed152bf"
      },
      "cell_type": "code",
      "source": [
        "### Load data set \n",
        "df_amazon = pd.read_csv(\"amazon_alexa.tsv\", sep=\"\\t\")\n",
        "\n",
        "df_amazon.head()"
      ],
      "execution_count": 196,
      "outputs": [
        {
          "output_type": "execute_result",
          "data": {
            "text/html": [
              "<div>\n",
              "<style scoped>\n",
              "    .dataframe tbody tr th:only-of-type {\n",
              "        vertical-align: middle;\n",
              "    }\n",
              "\n",
              "    .dataframe tbody tr th {\n",
              "        vertical-align: top;\n",
              "    }\n",
              "\n",
              "    .dataframe thead th {\n",
              "        text-align: right;\n",
              "    }\n",
              "</style>\n",
              "<table border=\"1\" class=\"dataframe\">\n",
              "  <thead>\n",
              "    <tr style=\"text-align: right;\">\n",
              "      <th></th>\n",
              "      <th>rating</th>\n",
              "      <th>date</th>\n",
              "      <th>variation</th>\n",
              "      <th>verified_reviews</th>\n",
              "      <th>feedback</th>\n",
              "    </tr>\n",
              "  </thead>\n",
              "  <tbody>\n",
              "    <tr>\n",
              "      <th>0</th>\n",
              "      <td>5</td>\n",
              "      <td>31-Jul-18</td>\n",
              "      <td>Charcoal Fabric</td>\n",
              "      <td>Love my Echo!</td>\n",
              "      <td>1</td>\n",
              "    </tr>\n",
              "    <tr>\n",
              "      <th>1</th>\n",
              "      <td>5</td>\n",
              "      <td>31-Jul-18</td>\n",
              "      <td>Charcoal Fabric</td>\n",
              "      <td>Loved it!</td>\n",
              "      <td>1</td>\n",
              "    </tr>\n",
              "    <tr>\n",
              "      <th>2</th>\n",
              "      <td>4</td>\n",
              "      <td>31-Jul-18</td>\n",
              "      <td>Walnut Finish</td>\n",
              "      <td>Sometimes while playing a game, you can answer...</td>\n",
              "      <td>1</td>\n",
              "    </tr>\n",
              "    <tr>\n",
              "      <th>3</th>\n",
              "      <td>5</td>\n",
              "      <td>31-Jul-18</td>\n",
              "      <td>Charcoal Fabric</td>\n",
              "      <td>I have had a lot of fun with this thing. My 4 ...</td>\n",
              "      <td>1</td>\n",
              "    </tr>\n",
              "    <tr>\n",
              "      <th>4</th>\n",
              "      <td>5</td>\n",
              "      <td>31-Jul-18</td>\n",
              "      <td>Charcoal Fabric</td>\n",
              "      <td>Music</td>\n",
              "      <td>1</td>\n",
              "    </tr>\n",
              "  </tbody>\n",
              "</table>\n",
              "</div>"
            ],
            "text/plain": [
              "   rating       date         variation  \\\n",
              "0       5  31-Jul-18  Charcoal Fabric    \n",
              "1       5  31-Jul-18  Charcoal Fabric    \n",
              "2       4  31-Jul-18    Walnut Finish    \n",
              "3       5  31-Jul-18  Charcoal Fabric    \n",
              "4       5  31-Jul-18  Charcoal Fabric    \n",
              "\n",
              "                                    verified_reviews  feedback  \n",
              "0                                      Love my Echo!         1  \n",
              "1                                          Loved it!         1  \n",
              "2  Sometimes while playing a game, you can answer...         1  \n",
              "3  I have had a lot of fun with this thing. My 4 ...         1  \n",
              "4                                              Music         1  "
            ]
          },
          "metadata": {
            "tags": []
          },
          "execution_count": 196
        }
      ]
    },
    {
      "metadata": {
        "id": "dxIu8tReRBbA",
        "colab_type": "code",
        "colab": {
          "base_uri": "https://localhost:8080/",
          "height": 34
        },
        "outputId": "18e44dfe-b1b5-46fd-8a9e-1dea9f9cf28b"
      },
      "cell_type": "code",
      "source": [
        "### Print shape of dataframe\n",
        "df_amazon.shape"
      ],
      "execution_count": 197,
      "outputs": [
        {
          "output_type": "execute_result",
          "data": {
            "text/plain": [
              "(3150, 5)"
            ]
          },
          "metadata": {
            "tags": []
          },
          "execution_count": 197
        }
      ]
    },
    {
      "metadata": {
        "id": "w8hzTUB9RRuD",
        "colab_type": "code",
        "colab": {
          "base_uri": "https://localhost:8080/",
          "height": 187
        },
        "outputId": "d56898c0-a31e-465a-921e-dc26cbdaf1b7"
      },
      "cell_type": "code",
      "source": [
        "### Print data information\n",
        "df_amazon.info()"
      ],
      "execution_count": 198,
      "outputs": [
        {
          "output_type": "stream",
          "text": [
            "<class 'pandas.core.frame.DataFrame'>\n",
            "RangeIndex: 3150 entries, 0 to 3149\n",
            "Data columns (total 5 columns):\n",
            "rating              3150 non-null int64\n",
            "date                3150 non-null object\n",
            "variation           3150 non-null object\n",
            "verified_reviews    3150 non-null object\n",
            "feedback            3150 non-null int64\n",
            "dtypes: int64(2), object(3)\n",
            "memory usage: 123.1+ KB\n"
          ],
          "name": "stdout"
        }
      ]
    },
    {
      "metadata": {
        "id": "irO7Bv6gRuj1",
        "colab_type": "code",
        "colab": {
          "base_uri": "https://localhost:8080/",
          "height": 68
        },
        "outputId": "76b6b93b-82c5-453e-d53c-910d6137248b"
      },
      "cell_type": "code",
      "source": [
        "### Feedback column count\n",
        "df_amazon.feedback.value_counts()"
      ],
      "execution_count": 199,
      "outputs": [
        {
          "output_type": "execute_result",
          "data": {
            "text/plain": [
              "1    2893\n",
              "0     257\n",
              "Name: feedback, dtype: int64"
            ]
          },
          "metadata": {
            "tags": []
          },
          "execution_count": 199
        }
      ]
    },
    {
      "metadata": {
        "id": "9pneqtPcSYfp",
        "colab_type": "code",
        "colab": {
          "base_uri": "https://localhost:8080/",
          "height": 105
        },
        "outputId": "3802963c-a342-4bdf-aa5e-c80b963f7c4e"
      },
      "cell_type": "code",
      "source": [
        "### Tokenize the Amazon dataset\n",
        "punctuations = string.punctuation\n",
        "print(\"Punctuations:\", punctuations, \"\\n\")\n",
        "\n",
        "nlp = spacy.load(\"en\")\n",
        "stop_words = STOP_WORDS\n",
        "print(\"Stop_Words:\", stop_words, \"\\n\")\n",
        "\n",
        "parser = English() # English tokenizer\n",
        "\n",
        "# Define a tokenizer function\n",
        "def spacy_tokenizer(sentence):\n",
        "    \n",
        "    tokens = parser(sentence) \n",
        "    \n",
        "    tokens = [word.lemma_.lower().strip() if word.lemma_ != \"-PRON-\" else word.lower_ for word in tokens]    \n",
        "    \n",
        "    tokens = [word for word in tokens if word not in stop_words and word not in punctuations]\n",
        "    \n",
        "    return tokens"
      ],
      "execution_count": 200,
      "outputs": [
        {
          "output_type": "stream",
          "text": [
            "Punctuations: !\"#$%&'()*+,-./:;<=>?@[\\]^_`{|}~ \n",
            "\n",
            "Stop_Words: {'from', 'when', 'call', 'whole', 'less', 'afterwards', 'is', 'already', 'whence', 'whereafter', 'always', 'to', 'might', 'the', 'could', 'part', 'doing', 'quite', 'whose', 'many', 'thru', 'each', 'thereafter', 'whoever', 'thereby', 'say', 'were', 'once', 'as', 'done', 'mine', 'my', 'alone', 'latter', 'other', 'besides', 'a', 'made', 'none', 'because', 'would', 'really', 'you', 'nine', 'or', 'moreover', 'did', 'eleven', 'so', 'too', 'else', 'should', 'at', 'never', 'becomes', 'same', 'also', 'indeed', 'latterly', 'ever', 'nowhere', 'where', 'all', 'hers', 'its', 'not', 'both', 'regarding', 'only', 'whenever', 'before', 'which', 'five', 'become', 'your', 'something', 'here', 'being', 'such', 'more', 'serious', 'seem', 'whatever', 'further', 'everything', 'please', 'seemed', 'back', 'along', 'it', 'whither', 'for', 'he', 'his', 'myself', 'whether', 'nevertheless', 'herein', 'various', 'wherever', 'was', 'some', 'below', 'themselves', 'toward', 'often', 'i', 'though', 'who', 'seeming', 'without', 'these', 'take', 'twenty', 'four', 'nothing', 'by', 'under', 'hereupon', 'have', 'everywhere', 'no', 're', 'hundred', 'must', 'what', 'am', 'their', 'someone', 'while', 'anything', 'has', 'anyone', 'whereupon', 'our', 'her', 'among', 'cannot', 'any', 'himself', 'seems', 'of', 'beside', 'we', 'everyone', 'keep', 'sometimes', 'fifty', 'sixty', 'during', 'almost', 'onto', 'neither', 'those', 'go', 'why', 'yet', 'however', 'on', 'then', 'still', 'six', 'enough', 'give', 'ours', 'but', 'otherwise', 'itself', 'third', 'whereas', 'wherein', 'in', 'out', 'show', 'him', 'via', 'they', 'get', 'again', 'anyhow', 'either', 'fifteen', 'most', 'amongst', 'into', 'three', 'least', 'anyway', 'perhaps', 'she', 'somewhere', 'bottom', 'per', 'meanwhile', 'somehow', 'ourselves', 'thus', 'whom', 'front', 'throughout', 'been', 'ca', 'due', 'had', 'just', 'name', 'nobody', 'after', 'thereupon', 'very', 'over', 'will', 'elsewhere', 'be', 'an', 'much', 'down', 'beyond', 'first', 'me', 'another', 'move', 'thence', 'anywhere', 'between', 'noone', 'therefore', 'therein', 'are', 'becoming', 'eight', 'own', 'yourselves', 'full', 'up', 'twelve', 'against', 'behind', 'others', 'together', 'how', 'beforehand', 'namely', 'several', 'sometime', 'about', 'ten', 'if', 'nor', 'and', 'side', 'using', 'towards', 'every', 'herself', 'two', 'well', 'although', 'hence', 'through', 'with', 'amount', 'that', 'until', 'since', 'us', 'may', 'next', 'do', 'whereby', 'even', 'forty', 'former', 'above', 'does', 'put', 'can', 'within', 'mostly', 'one', 'around', 'last', 'make', 'see', 'yours', 'hereafter', 'than', 'them', 'few', 'this', 'formerly', 'upon', 'unless', 'now', 'except', 'empty', 'became', 'top', 'rather', 'there', 'used', 'yourself', 'off', 'across', 'hereby'} \n",
            "\n"
          ],
          "name": "stdout"
        }
      ]
    },
    {
      "metadata": {
        "id": "FrJoeOXgdngn",
        "colab_type": "text"
      },
      "cell_type": "markdown",
      "source": [
        "### **Define a Custom Transformer.**"
      ]
    },
    {
      "metadata": {
        "id": "UNo5Q9Jbd03E",
        "colab_type": "code",
        "colab": {}
      },
      "cell_type": "code",
      "source": [
        "### Custom transformer class\n",
        "class predictors(TransformerMixin):\n",
        "    \n",
        "    def transform(self, X, **transform_params):\n",
        "      \n",
        "        return [clean_text(text) for text in X]\n",
        "      \n",
        "    def fit(self, X, y=None, **fit_params):\n",
        "      \n",
        "        return self\n",
        "      \n",
        "    def get_params(self, deep=True):\n",
        "      \n",
        "        return {}\n",
        "      \n",
        "# Text cleaning function\n",
        "def clean_text(text):\n",
        "  \n",
        "    return text.strip().lower()"
      ],
      "execution_count": 0,
      "outputs": []
    },
    {
      "metadata": {
        "id": "5uRGvhkKiGY7",
        "colab_type": "text"
      },
      "cell_type": "markdown",
      "source": [
        "### **Vectorization Feature Engineering (TF-IDF).**"
      ]
    },
    {
      "metadata": {
        "id": "YPhoqJcVh7_U",
        "colab_type": "code",
        "colab": {}
      },
      "cell_type": "code",
      "source": [
        "### Bag of Words matrix\n",
        "bow_vector = CountVectorizer(tokenizer = spacy_tokenizer, ngram_range = (1 ,1))"
      ],
      "execution_count": 0,
      "outputs": []
    },
    {
      "metadata": {
        "id": "rrF37QyNjhhe",
        "colab_type": "code",
        "colab": {}
      },
      "cell_type": "code",
      "source": [
        "### TF-IDF vector\n",
        "tfidf_vector = TfidfVectorizer(tokenizer = spacy_tokenizer) "
      ],
      "execution_count": 0,
      "outputs": []
    },
    {
      "metadata": {
        "id": "gA65lTMxj7BU",
        "colab_type": "code",
        "colab": {}
      },
      "cell_type": "code",
      "source": [
        "### Split the Amazon data into train and test sets\n",
        "X = df_amazon['verified_reviews']  # Independent variables\n",
        "y_labels = df_amazon['feedback']  # Dependent variables\n",
        "\n",
        "X_train, X_test, y_train, y_test = train_test_split(X, y_labels, test_size = 0.3)"
      ],
      "execution_count": 0,
      "outputs": []
    },
    {
      "metadata": {
        "id": "_teqeIell6eA",
        "colab_type": "text"
      },
      "cell_type": "markdown",
      "source": [
        "### **Create a Pipeline and Generate the Model.**"
      ]
    },
    {
      "metadata": {
        "id": "MtCFyCimmIQI",
        "colab_type": "code",
        "colab": {}
      },
      "cell_type": "code",
      "source": [
        "### Instantiate the LR Classifier\n",
        "logistic_regression_classifier = LogisticRegression()"
      ],
      "execution_count": 0,
      "outputs": []
    },
    {
      "metadata": {
        "id": "-9S16eMzp6hm",
        "colab_type": "code",
        "colab": {}
      },
      "cell_type": "code",
      "source": [
        "### Create a Pipeline \n",
        "pipe = Pipeline([(\"cleaner\", predictors()),\n",
        "                 (\"vectorizer\", bow_vector),\n",
        "                 (\"classifier\", logistic_regression_classifier)])"
      ],
      "execution_count": 0,
      "outputs": []
    },
    {
      "metadata": {
        "id": "spLhKcshtBGL",
        "colab_type": "code",
        "colab": {
          "base_uri": "https://localhost:8080/",
          "height": 173
        },
        "outputId": "73255eae-cd2c-43c9-8940-a2121f599360"
      },
      "cell_type": "code",
      "source": [
        "### Generate the model\n",
        "pipe.fit(X_train, y_train)"
      ],
      "execution_count": 207,
      "outputs": [
        {
          "output_type": "stream",
          "text": [
            "/usr/local/lib/python3.6/dist-packages/sklearn/linear_model/logistic.py:433: FutureWarning: Default solver will be changed to 'lbfgs' in 0.22. Specify a solver to silence this warning.\n",
            "  FutureWarning)\n"
          ],
          "name": "stderr"
        },
        {
          "output_type": "execute_result",
          "data": {
            "text/plain": [
              "Pipeline(memory=None,\n",
              "     steps=[('cleaner', <__main__.predictors object at 0x7f4585273a90>), ('vectorizer', CountVectorizer(analyzer='word', binary=False, decode_error='strict',\n",
              "        dtype=<class 'numpy.int64'>, encoding='utf-8', input='content',\n",
              "        lowercase=True, max_df=1.0, max_features=None, min_df=1,\n",
              "        ng...penalty='l2', random_state=None, solver='warn',\n",
              "          tol=0.0001, verbose=0, warm_start=False))])"
            ]
          },
          "metadata": {
            "tags": []
          },
          "execution_count": 207
        }
      ]
    },
    {
      "metadata": {
        "id": "05QHZsLXwISB",
        "colab_type": "text"
      },
      "cell_type": "markdown",
      "source": [
        "### **Evaluate the model.**"
      ]
    },
    {
      "metadata": {
        "id": "80Xu-WHowOpG",
        "colab_type": "code",
        "colab": {
          "base_uri": "https://localhost:8080/",
          "height": 68
        },
        "outputId": "022cae46-74a1-4f21-e699-11c2c2f2a91d"
      },
      "cell_type": "code",
      "source": [
        "### Get predictions from the model\n",
        "y_pred = pipe.predict(X_test)\n",
        "\n",
        "### Print model accuracy \n",
        "print(\"Logistic Regression Accuracy:\", metrics.accuracy_score(y_test, y_pred))\n",
        "print(\"Logistic Regression Precision:\", metrics.precision_score(y_test, y_pred))\n",
        "print(\"Logistic Regression Recall:\", metrics.recall_score(y_test, y_pred))"
      ],
      "execution_count": 208,
      "outputs": [
        {
          "output_type": "stream",
          "text": [
            "Logistic Regression Accuracy: 0.9481481481481482\n",
            "Logistic Regression Precision: 0.9508733624454149\n",
            "Logistic Regression Recall: 0.9954285714285714\n"
          ],
          "name": "stdout"
        }
      ]
    },
    {
      "metadata": {
        "id": "yjkCVZVG2Xks",
        "colab_type": "text"
      },
      "cell_type": "markdown",
      "source": [
        "### **Over the course of this notebook, I went from simple text analysis using 'SpaCy'  to building a ML Model using SKLearn.**"
      ]
    }
  ]
}